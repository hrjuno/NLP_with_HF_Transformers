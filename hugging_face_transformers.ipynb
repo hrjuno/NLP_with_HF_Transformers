{
  "cells": [
    {
      "cell_type": "markdown",
      "metadata": {
        "id": "CJTx5tqpqJjH"
      },
      "source": [
        "<p style=\"text-align:center\">\n",
        "    <a href=\"https://skills.network/?utm_medium=Exinfluencer&utm_source=Exinfluencer&utm_content=000026UJ&utm_term=10006555&utm_id=NA-SkillsNetwork-Channel-SkillsNetworkGuidedProjectsIBMGPXX0AIAEN102-2022-01-01\" target=\"_blank\">\n",
        "    <img src=\"https://cf-courses-data.s3.us.cloud-object-storage.appdomain.cloud/assets/logos/SN_web_lightmode.png\" width=\"200\" alt=\"Skills Network Logo\"  />\n",
        "    </a>\n",
        "</p>\n"
      ]
    },
    {
      "cell_type": "markdown",
      "metadata": {
        "id": "GoL8GNLiqJjI"
      },
      "source": [
        "# <center> **Introduction to Natural Language Processing  with Hugging Face Transformers** <center>\n"
      ]
    },
    {
      "cell_type": "markdown",
      "metadata": {
        "id": "o9zAtHu_qJjJ"
      },
      "source": [
        "<center> <img src=\"https://cf-courses-data.s3.us.cloud-object-storage.appdomain.cloud/IBM-GPXX0AIAEN/Transformers_models.png\" width=\"60%\" alt=\"iris image\"> <center>\n",
        "\n",
        "Image Source: [nvidia](https://blogs.nvidia.com/blog/2022/03/25/what-is-a-transformer-model/?utm_medium=Exinfluencer&utm_source=Exinfluencer&utm_content=000026UJ&utm_term=10006555&utm_id=NA-SkillsNetwork-Channel-SkillsNetworkGuidedProjectsIBMGPXX0AIAEN102-2022-01-01)\n"
      ]
    },
    {
      "cell_type": "markdown",
      "metadata": {
        "id": "eNC81VKTqJjJ"
      },
      "source": [
        "Estimated timee needed: **30** minutes\n"
      ]
    },
    {
      "cell_type": "markdown",
      "metadata": {
        "id": "BFRHYFcjqJjJ"
      },
      "source": [
        "This Guided Project will walk you through some of the applications of Hugging Face Transformers in Natural Language Processing (NLP).\n",
        "\n",
        "Hugging Face Transformers package is very popular and versatile Python library that provides pre-trained models for a variety of applications in NLP, as well other areas such as image analysis, audio analysis, multimodal analysis (optical character recognition, video classification, visual question answering and many more).\n"
      ]
    },
    {
      "cell_type": "markdown",
      "metadata": {
        "id": "iqOig2q_qJjJ"
      },
      "source": [
        "This Guided Project will focus on text analysis tasks, which are:\n",
        "\n",
        "*   Text Classification.\n",
        "    *   Sentiment Analysis. Classifies the polarity of a given text.\n",
        "*   Topic Classification. Classifies sequences into specified class names.\n",
        "*   Text Generator. Generates text from a given input.\n",
        "*   Token Classification.\n",
        "    *   Name Entity Recognition (NER). Labels each word with the entity it represents.\n",
        "*   Question answering. Extracts the answer from the context.\n",
        "*   Text Summarization. Generates a summary of a long sequence of text or document.\n",
        "*   Translation. Translates text into another language.\n"
      ]
    },
    {
      "cell_type": "markdown",
      "metadata": {
        "id": "SdkzHvVMqJjJ"
      },
      "source": [
        "## __Table of Contents__\n",
        "\n",
        "<ol>\n",
        "    <li><a href=\"#Objectives\">Objectives</a></li>\n",
        "    <li>\n",
        "        <a href=\"#Setup\">Setup</a>\n",
        "        <ol>\n",
        "            <li><a href=\"#Installing-Required-Libraries\">Installing Required Libraries</a></li>\n",
        "            <li><a href=\"#Importing-Required-Libraries\">Importing Required Libraries</a></li>\n",
        "        </ol>\n",
        "    </li>\n",
        "    <li>\n",
        "        <a href=\"#Background-(optional)\">Background (optional)</a>\n",
        "        <ol>\n",
        "            <li><a href=\"#Example-1--Sentiment-Analysis?\">Example 1 - Sentiment Analysis</a></li>\n",
        "            <li><a href=\"#Example-2--Topic-Classification?\">Example 2 - Topic Classification</a></li>\n",
        "            <li><a href=\"#Example-3--Text-Generator?\">Example 3 - Text Generator: Masked Language Modeling</a></li>\n",
        "            <li><a href=\"#Example-4--Name-Entity-Recognition?\">Example 4 - Name Entity Recognition</a></li>\n",
        "            <li><a href=\"#Example-5--Question-Answering?\">Example 5 - Question Answering</a></li>\n",
        "            <li><a href=\"#Example-6--Text-Summarization?\">Example 6 - Text Summarization</a></li>\n",
        "            <li><a href=\"#Example-7--Translation?\">Example 7 - Translation</a></li>\n",
        "        </ol>\n",
        "    </li>\n",
        "</ol>\n",
        "\n",
        "<a href=\"#Exercises\">Exercises</a>\n",
        "<ol>\n",
        "    <li><a href=\"#Exercise-1---Sentiment-Analysis)\">Exercise 1. Sentiment Analysis</a></li>\n",
        "    <li><a href=\"#Exercise-2---Topic-Classification\">Exercise 2. Topic Classification</a></li>\n",
        "    <li><a href=\"#Exercise-3---Text-Generation\">Exercise 3. Text Generation</a></li>\n",
        "    <li><a href=\"#Exercise-4---Name-Entity-Recognition\">Exercise 4. Name Entity Recognition</a></li>\n",
        "    <li><a href=\"#Exercise-5---Question-Answering\">Exercise 5. Question Answering</a></li>\n",
        "    <li><a href=\"#Exercise-6---Text-Summarization\">Exercise 6. Text Summarization</a></li>\n",
        "    <li><a href=\"#Exercise-7---Translation\">Exercise 7. Translation</a></li>\n",
        "</ol>\n"
      ]
    },
    {
      "cell_type": "markdown",
      "metadata": {
        "id": "PuLL2nSAqJjJ"
      },
      "source": [
        "## Objectives\n",
        "\n",
        "After completing this lab you will be able to:\n",
        "\n",
        " - Use Hugging Face Transformers to do:\n",
        "   - Sentiment Analysis\n",
        "   - Topic Classification\n",
        "   - Text Generation\n",
        "   - Name Entity Recognition\n",
        "   - Question Answering\n",
        "   - Text Summarization\n",
        "   - Text Translation\n"
      ]
    },
    {
      "cell_type": "markdown",
      "metadata": {
        "id": "G7HlNG6cqJjK"
      },
      "source": [
        "----\n"
      ]
    },
    {
      "cell_type": "markdown",
      "metadata": {
        "id": "q__KxypRqJjK"
      },
      "source": [
        "## Setup\n"
      ]
    },
    {
      "cell_type": "markdown",
      "metadata": {
        "id": "pZyCgTIpqJjK"
      },
      "source": [
        "For this lab, we will be using the following libraries:\n",
        "\n",
        "*   [`pandas`](https://pandas.pydata.org/?utm_medium=Exinfluencer&utm_source=Exinfluencer&utm_content=000026UJ&utm_term=10006555&utm_id=NA-SkillsNetwork-Channel-SkillsNetworkCoursesIBMML0187ENSkillsNetwork31430127-2021-01-01) for managing the data.\n"
      ]
    },
    {
      "cell_type": "markdown",
      "metadata": {
        "id": "dvfvr_TGqJjK"
      },
      "source": [
        "### Installing Required Libraries\n",
        "\n"
      ]
    },
    {
      "cell_type": "markdown",
      "metadata": {
        "id": "SrVYyRucqJjL"
      },
      "source": [
        "The following required libraries are __not__ pre-installed in the Skills Network Labs environment. __You will need to run the following cell__ to install them:\n"
      ]
    },
    {
      "cell_type": "code",
      "execution_count": 1,
      "metadata": {
        "tags": [],
        "id": "xpL8_gzhqJjM",
        "colab": {
          "base_uri": "https://localhost:8080/"
        },
        "outputId": "6704d29b-314a-490d-b962-36cc5b9a2a9a"
      },
      "outputs": [
        {
          "output_type": "stream",
          "name": "stdout",
          "text": [
            "Requirement already satisfied: torch in /usr/local/lib/python3.11/dist-packages (2.6.0+cu124)\n",
            "Requirement already satisfied: filelock in /usr/local/lib/python3.11/dist-packages (from torch) (3.18.0)\n",
            "Requirement already satisfied: typing-extensions>=4.10.0 in /usr/local/lib/python3.11/dist-packages (from torch) (4.13.2)\n",
            "Requirement already satisfied: networkx in /usr/local/lib/python3.11/dist-packages (from torch) (3.4.2)\n",
            "Requirement already satisfied: jinja2 in /usr/local/lib/python3.11/dist-packages (from torch) (3.1.6)\n",
            "Requirement already satisfied: fsspec in /usr/local/lib/python3.11/dist-packages (from torch) (2025.3.2)\n",
            "Requirement already satisfied: nvidia-cuda-nvrtc-cu12==12.4.127 in /usr/local/lib/python3.11/dist-packages (from torch) (12.4.127)\n",
            "Requirement already satisfied: nvidia-cuda-runtime-cu12==12.4.127 in /usr/local/lib/python3.11/dist-packages (from torch) (12.4.127)\n",
            "Requirement already satisfied: nvidia-cuda-cupti-cu12==12.4.127 in /usr/local/lib/python3.11/dist-packages (from torch) (12.4.127)\n",
            "Requirement already satisfied: nvidia-cudnn-cu12==9.1.0.70 in /usr/local/lib/python3.11/dist-packages (from torch) (9.1.0.70)\n",
            "Requirement already satisfied: nvidia-cublas-cu12==12.4.5.8 in /usr/local/lib/python3.11/dist-packages (from torch) (12.4.5.8)\n",
            "Requirement already satisfied: nvidia-cufft-cu12==11.2.1.3 in /usr/local/lib/python3.11/dist-packages (from torch) (11.2.1.3)\n",
            "Requirement already satisfied: nvidia-curand-cu12==10.3.5.147 in /usr/local/lib/python3.11/dist-packages (from torch) (10.3.5.147)\n",
            "Requirement already satisfied: nvidia-cusolver-cu12==11.6.1.9 in /usr/local/lib/python3.11/dist-packages (from torch) (11.6.1.9)\n",
            "Requirement already satisfied: nvidia-cusparse-cu12==12.3.1.170 in /usr/local/lib/python3.11/dist-packages (from torch) (12.3.1.170)\n",
            "Requirement already satisfied: nvidia-cusparselt-cu12==0.6.2 in /usr/local/lib/python3.11/dist-packages (from torch) (0.6.2)\n",
            "Requirement already satisfied: nvidia-nccl-cu12==2.21.5 in /usr/local/lib/python3.11/dist-packages (from torch) (2.21.5)\n",
            "Requirement already satisfied: nvidia-nvtx-cu12==12.4.127 in /usr/local/lib/python3.11/dist-packages (from torch) (12.4.127)\n",
            "Requirement already satisfied: nvidia-nvjitlink-cu12==12.4.127 in /usr/local/lib/python3.11/dist-packages (from torch) (12.4.127)\n",
            "Requirement already satisfied: triton==3.2.0 in /usr/local/lib/python3.11/dist-packages (from torch) (3.2.0)\n",
            "Requirement already satisfied: sympy==1.13.1 in /usr/local/lib/python3.11/dist-packages (from torch) (1.13.1)\n",
            "Requirement already satisfied: mpmath<1.4,>=1.1.0 in /usr/local/lib/python3.11/dist-packages (from sympy==1.13.1->torch) (1.3.0)\n",
            "Requirement already satisfied: MarkupSafe>=2.0 in /usr/local/lib/python3.11/dist-packages (from jinja2->torch) (3.0.2)\n"
          ]
        }
      ],
      "source": [
        "!pip install torch"
      ]
    },
    {
      "cell_type": "code",
      "execution_count": 2,
      "metadata": {
        "tags": [],
        "id": "p7oro70zqJjM"
      },
      "outputs": [],
      "source": [
        "!pip install -q transformers"
      ]
    },
    {
      "cell_type": "code",
      "execution_count": 4,
      "metadata": {
        "tags": [],
        "id": "Q_HbVMRaqJjM",
        "colab": {
          "base_uri": "https://localhost:8080/"
        },
        "outputId": "1eb5b0bc-80df-4302-f8f2-ed29ea67fecc"
      },
      "outputs": [
        {
          "output_type": "stream",
          "name": "stdout",
          "text": [
            "Requirement already satisfied: datasets in /usr/local/lib/python3.11/dist-packages (2.14.4)\n",
            "Requirement already satisfied: evaluate in /usr/local/lib/python3.11/dist-packages (0.4.3)\n",
            "Requirement already satisfied: transformers[sentencepiece] in /usr/local/lib/python3.11/dist-packages (4.52.2)\n",
            "Requirement already satisfied: numpy>=1.17 in /usr/local/lib/python3.11/dist-packages (from datasets) (2.0.2)\n",
            "Requirement already satisfied: pyarrow>=8.0.0 in /usr/local/lib/python3.11/dist-packages (from datasets) (18.1.0)\n",
            "Requirement already satisfied: dill<0.3.8,>=0.3.0 in /usr/local/lib/python3.11/dist-packages (from datasets) (0.3.7)\n",
            "Requirement already satisfied: pandas in /usr/local/lib/python3.11/dist-packages (from datasets) (2.2.2)\n",
            "Requirement already satisfied: requests>=2.19.0 in /usr/local/lib/python3.11/dist-packages (from datasets) (2.32.3)\n",
            "Requirement already satisfied: tqdm>=4.62.1 in /usr/local/lib/python3.11/dist-packages (from datasets) (4.67.1)\n",
            "Requirement already satisfied: xxhash in /usr/local/lib/python3.11/dist-packages (from datasets) (3.5.0)\n",
            "Requirement already satisfied: multiprocess in /usr/local/lib/python3.11/dist-packages (from datasets) (0.70.15)\n",
            "Requirement already satisfied: fsspec>=2021.11.1 in /usr/local/lib/python3.11/dist-packages (from fsspec[http]>=2021.11.1->datasets) (2025.3.2)\n",
            "Requirement already satisfied: aiohttp in /usr/local/lib/python3.11/dist-packages (from datasets) (3.11.15)\n",
            "Requirement already satisfied: huggingface-hub<1.0.0,>=0.14.0 in /usr/local/lib/python3.11/dist-packages (from datasets) (0.31.4)\n",
            "Requirement already satisfied: packaging in /usr/local/lib/python3.11/dist-packages (from datasets) (24.2)\n",
            "Requirement already satisfied: pyyaml>=5.1 in /usr/local/lib/python3.11/dist-packages (from datasets) (6.0.2)\n",
            "Requirement already satisfied: filelock in /usr/local/lib/python3.11/dist-packages (from transformers[sentencepiece]) (3.18.0)\n",
            "Requirement already satisfied: regex!=2019.12.17 in /usr/local/lib/python3.11/dist-packages (from transformers[sentencepiece]) (2024.11.6)\n",
            "Requirement already satisfied: tokenizers<0.22,>=0.21 in /usr/local/lib/python3.11/dist-packages (from transformers[sentencepiece]) (0.21.1)\n",
            "Requirement already satisfied: safetensors>=0.4.3 in /usr/local/lib/python3.11/dist-packages (from transformers[sentencepiece]) (0.5.3)\n",
            "Requirement already satisfied: sentencepiece!=0.1.92,>=0.1.91 in /usr/local/lib/python3.11/dist-packages (from transformers[sentencepiece]) (0.2.0)\n",
            "Requirement already satisfied: protobuf in /usr/local/lib/python3.11/dist-packages (from transformers[sentencepiece]) (5.29.4)\n",
            "Requirement already satisfied: aiohappyeyeballs>=2.3.0 in /usr/local/lib/python3.11/dist-packages (from aiohttp->datasets) (2.6.1)\n",
            "Requirement already satisfied: aiosignal>=1.1.2 in /usr/local/lib/python3.11/dist-packages (from aiohttp->datasets) (1.3.2)\n",
            "Requirement already satisfied: attrs>=17.3.0 in /usr/local/lib/python3.11/dist-packages (from aiohttp->datasets) (25.3.0)\n",
            "Requirement already satisfied: frozenlist>=1.1.1 in /usr/local/lib/python3.11/dist-packages (from aiohttp->datasets) (1.6.0)\n",
            "Requirement already satisfied: multidict<7.0,>=4.5 in /usr/local/lib/python3.11/dist-packages (from aiohttp->datasets) (6.4.4)\n",
            "Requirement already satisfied: propcache>=0.2.0 in /usr/local/lib/python3.11/dist-packages (from aiohttp->datasets) (0.3.1)\n",
            "Requirement already satisfied: yarl<2.0,>=1.17.0 in /usr/local/lib/python3.11/dist-packages (from aiohttp->datasets) (1.20.0)\n",
            "Requirement already satisfied: typing-extensions>=3.7.4.3 in /usr/local/lib/python3.11/dist-packages (from huggingface-hub<1.0.0,>=0.14.0->datasets) (4.13.2)\n",
            "Requirement already satisfied: charset-normalizer<4,>=2 in /usr/local/lib/python3.11/dist-packages (from requests>=2.19.0->datasets) (3.4.2)\n",
            "Requirement already satisfied: idna<4,>=2.5 in /usr/local/lib/python3.11/dist-packages (from requests>=2.19.0->datasets) (3.10)\n",
            "Requirement already satisfied: urllib3<3,>=1.21.1 in /usr/local/lib/python3.11/dist-packages (from requests>=2.19.0->datasets) (2.4.0)\n",
            "Requirement already satisfied: certifi>=2017.4.17 in /usr/local/lib/python3.11/dist-packages (from requests>=2.19.0->datasets) (2025.4.26)\n",
            "Requirement already satisfied: python-dateutil>=2.8.2 in /usr/local/lib/python3.11/dist-packages (from pandas->datasets) (2.9.0.post0)\n",
            "Requirement already satisfied: pytz>=2020.1 in /usr/local/lib/python3.11/dist-packages (from pandas->datasets) (2025.2)\n",
            "Requirement already satisfied: tzdata>=2022.7 in /usr/local/lib/python3.11/dist-packages (from pandas->datasets) (2025.2)\n",
            "Requirement already satisfied: six>=1.5 in /usr/local/lib/python3.11/dist-packages (from python-dateutil>=2.8.2->pandas->datasets) (1.17.0)\n"
          ]
        }
      ],
      "source": [
        "!pip install datasets evaluate transformers[sentencepiece]"
      ]
    },
    {
      "cell_type": "code",
      "execution_count": 5,
      "metadata": {
        "tags": [],
        "id": "A7tVn-_5qJjM",
        "colab": {
          "base_uri": "https://localhost:8080/"
        },
        "outputId": "2461c18f-16f7-4fa8-e81a-87f3a4089122"
      },
      "outputs": [
        {
          "output_type": "stream",
          "name": "stdout",
          "text": [
            "Requirement already satisfied: sacremoses in /usr/local/lib/python3.11/dist-packages (0.1.1)\n",
            "Requirement already satisfied: regex in /usr/local/lib/python3.11/dist-packages (from sacremoses) (2024.11.6)\n",
            "Requirement already satisfied: click in /usr/local/lib/python3.11/dist-packages (from sacremoses) (8.2.1)\n",
            "Requirement already satisfied: joblib in /usr/local/lib/python3.11/dist-packages (from sacremoses) (1.5.0)\n",
            "Requirement already satisfied: tqdm in /usr/local/lib/python3.11/dist-packages (from sacremoses) (4.67.1)\n"
          ]
        }
      ],
      "source": [
        "!pip install sacremoses"
      ]
    },
    {
      "cell_type": "markdown",
      "metadata": {
        "id": "r0pRtrYbqJjM"
      },
      "source": [
        "Please **restart the kernel** after running the above installs.\n"
      ]
    },
    {
      "cell_type": "markdown",
      "metadata": {
        "id": "eZOjmNNKqJjM"
      },
      "source": [
        "### Importing Required Libraries\n",
        "\n",
        "_We recommend you import all required libraries in one place (here):_\n"
      ]
    },
    {
      "cell_type": "code",
      "execution_count": 6,
      "metadata": {
        "id": "WTVF2bH_qJjN"
      },
      "outputs": [],
      "source": [
        "import warnings\n",
        "warnings.filterwarnings('ignore')"
      ]
    },
    {
      "cell_type": "code",
      "execution_count": 7,
      "metadata": {
        "id": "-6qlzfb_qJjN"
      },
      "outputs": [],
      "source": [
        "from transformers import pipeline\n",
        "from transformers import AutoTokenizer\n",
        "from transformers import AutoModel"
      ]
    },
    {
      "cell_type": "markdown",
      "metadata": {
        "id": "i8tKq_21qJjN"
      },
      "source": [
        "## Background (optional)\n",
        "\n",
        "### What is a Transformer Model?\n",
        "\n",
        "A Transformer Model is a neural network that learns context and thus meaning by tracking relationships in sequential data, for example, words in a sentence. Transformer models apply an evolving set of mathematical techniques, called attention or self-attention, differently weighing the significance of each part of the input data. They are used primarily in the fields of natural language processing and computer vision. Similarly to recurrent neural networks (RNNs), transformers are designed to process sequential data, for example a body of text, with applications such as translation and text summarization. However, unlike RNNs, transformers process the entire input all at once. The attention mechanism provides context for any position in the input sequence. For example, if the input data is a natural language sentence, the transformer does not have to process one word at a time. This allows for more parallelization than RNNs, and therefore, reduces training times. The additional training parallelization allows training on larger datasets. This led to the development of pre-trained systems such as BERT (Bidirectional Encoder Representations from Transformers) and GPT (Generative Pre-trained Transformer), which were trained with large language datasets, such as the Wikipedia Corpus and Common Crawl, and can be fine-tuned for specific tasks.\n",
        "\n",
        "Transformer models were first described in a [2017 paper](https://arxiv.org/abs/1706.03762?utm_medium=Exinfluencer&utm_source=Exinfluencer&utm_content=000026UJ&utm_term=10006555&utm_id=NA-SkillsNetwork-Channel-SkillsNetworkGuidedProjectsIBMGPXX0AIAEN102-2022-01-01) from Google, as the newest and the most powerful classes of models invented today, replacing some RNNs.\n",
        "\n",
        "### What do Transformer Models do?\n",
        "\n",
        "Transformer Models have many useful applications in today world. They are widely used in near real-time translation tasks, opening communication spaces to language-diverse and hearing-impaired audiences. These models are advancing medical research by helping scientists to understand the DNA and amino acid sequences to speed up the development and improve the quality of treatments for different diseases. The models can detect anomalies to prevent fraud detection, streamline manufacturing, make recommendations and overall improve our day-to-day quality of life.\n",
        "\n",
        "### Transformer Model Architecture\n",
        "\n",
        "<img src=\"https://cf-courses-data.s3.us.cloud-object-storage.appdomain.cloud/IBM-GPXX0AIAEN/The-Transformer-model-architecture.png\" width=\"50%\" alt=\"iris image\">\n",
        "\n",
        "Image Source: [wikipedia](https://en.wikipedia.org/wiki/Transformer_\\(machine_learning_model\\)?utm_medium=Exinfluencer&utm_source=Exinfluencer&utm_content=000026UJ&utm_term=10006555&utm_id=NA-SkillsNetwork-Channel-SkillsNetworkGuidedProjectsIBMGPXX0AIAEN102-2022-01-01)\n",
        "\n",
        "The diagram above describes the pipeline between the input, output and positional encoding. For more information on Transformer Architecture visit this [wikipedia](https://en.wikipedia.org/wiki/Transformer_\\(machine_learning_model\\)?utm_medium=Exinfluencer&utm_source=Exinfluencer&utm_content=000026UJ&utm_term=10006555&utm_id=NA-SkillsNetwork-Channel-SkillsNetworkGuidedProjectsIBMGPXX0AIAEN102-2022-01-01) page.\n"
      ]
    },
    {
      "cell_type": "markdown",
      "metadata": {
        "id": "NGZZLw9QqJjN"
      },
      "source": [
        "### How to use Hugging Face Transformers\n",
        "\n",
        "There is very easy way to apply Hugging Face Transformers, it is to use the `pipeline()` function. The pipeline makes it simple to use any model from the Hugging Face Hub for inference on any language, computer vision, speech, or multimodal tasks. Each task has an associated pipeline. However, it is simpler to use the general pipeline abstraction, which contains all the task-specific pipelines. The `pipeline()` automatically loads a default model and a pre-processing class capable of inference for any of your desired tasks.\n",
        "\n",
        "The links beside each of the 7 Examples shown here, are from Hugging Face community and contain more information about the models and data they were trained on.\n",
        "This [Hugging Face Page](https://huggingface.co/models?utm_medium=Exinfluencer&utm_source=Exinfluencer&utm_content=000026UJ&utm_term=10006555&utm_id=NA-SkillsNetwork-Channel-SkillsNetworkGuidedProjectsIBMGPXX0AIAEN102-2022-01-01) also contains ALL the models created by this community.\n"
      ]
    },
    {
      "cell_type": "markdown",
      "metadata": {
        "id": "9wHeSuQeqJjN"
      },
      "source": [
        "### Example 1 - [Sentiment Analysis](https://huggingface.co/blog/sentiment-analysis-python?utm_medium=Exinfluencer&utm_source=Exinfluencer&utm_content=000026UJ&utm_term=10006555&utm_id=NA-SkillsNetwork-Channel-SkillsNetworkGuidedProjectsIBMGPXX0AIAEN102-2022-01-01)\n",
        "\n",
        "\n",
        "**Sentiment analysis** is a natural language processing technique that identifies the polarity of a given text. Some of the most common practical uses of sentiment analysis are tweets analysis, product reviews, support tickets classification and others. Sentiment analysis allows quick processing of large amounts, real-time data. The Diagram below, describes the process of Sentiment Analysis. As shown in the Diagram below, we can use sentiment analysis to predict a label and a score of a random amazon product review.\n",
        "\n",
        "<center> <img src=\"https://cf-courses-data.s3.us.cloud-object-storage.appdomain.cloud/IBM-GPXX0AIAEN/sent_analysis6.png\" width=\"70%\"> <center>\n",
        "\n",
        "The evaluation metric for this type of analysis is accuracy score. The default model behind \"sentiment-analysis\" pipeline is \"distilbert-base-uncased-finetuned-sst-2-english\" model, pre-trained on a large corpus of English data in a self-supervised fashion. This means it was pre-trained on the raw texts only, with no humans labelling them in any way. For more information on this model read [here.](https://huggingface.co/distilbert-base-uncased-finetuned-sst-2-english?utm_medium=Exinfluencer&utm_source=Exinfluencer&utm_content=000026UJ&utm_term=10006555&utm_id=NA-SkillsNetwork-Channel-SkillsNetworkGuidedProjectsIBMGPXX0AIAEN102-2022-01-01&text=I+like+you.+I+love+you)\n"
      ]
    },
    {
      "cell_type": "markdown",
      "metadata": {
        "id": "bG_mVgHUqJjN"
      },
      "source": [
        "We can start by loading text classification pipeline from `pipeline()` using \"sentiment-analysis\" task identifier. It uses the default, \"distilbert-base-uncased-finetuned-sst-2-english\" model for sentiment analysis. Note, you can skip specifying a default model, but you will recieve a warning message.\n"
      ]
    },
    {
      "cell_type": "code",
      "execution_count": 8,
      "metadata": {
        "id": "Ylvl6hhqqJjN",
        "colab": {
          "base_uri": "https://localhost:8080/"
        },
        "outputId": "089a212a-6e6b-4c08-9dda-7f290d196881"
      },
      "outputs": [
        {
          "output_type": "stream",
          "name": "stderr",
          "text": [
            "Device set to use cuda:0\n"
          ]
        }
      ],
      "source": [
        "classifier = pipeline(\"sentiment-analysis\", model=\"distilbert-base-uncased-finetuned-sst-2-english\")\n"
      ]
    },
    {
      "cell_type": "markdown",
      "metadata": {
        "id": "Qn0Oy8CNqJjN"
      },
      "source": [
        "We can copy a random product review from amazon and input it into selected classifier. [Review Source.](https://www.amazon.ca/iRobot-Roomba-Self-Emptying-Robot-Vacuum/dp/B094NYHTMF/ref=sr_1_1_sspa?utm_medium=Exinfluencer&utm_source=Exinfluencer&utm_content=000026UJ&utm_term=10006555&utm_id=NA-SkillsNetwork-Channel-SkillsNetworkGuidedProjectsIBMGPXX0AIAEN102-2022-01-01&crid=2LO2ZA75UKXKQ&keywords=roomba&qid=1663097073&sprefix=roomba%2Caps%2C194&sr=8-1-spons&psc=1#customerReviews)\n"
      ]
    },
    {
      "cell_type": "code",
      "execution_count": 9,
      "metadata": {
        "id": "LAYQka84qJjN",
        "colab": {
          "base_uri": "https://localhost:8080/"
        },
        "outputId": "e7e461e9-ce7e-4f26-a66e-41c1d8378f2f"
      },
      "outputs": [
        {
          "output_type": "execute_result",
          "data": {
            "text/plain": [
              "[{'label': 'POSITIVE', 'score': 0.9982457160949707}]"
            ]
          },
          "metadata": {},
          "execution_count": 9
        }
      ],
      "source": [
        "classifier(\"Having three long haired, heavy shedding dogs at home, I was pretty skeptical that this could hold up to all the hair and dirt they trek in, but this wonderful piece of tech has been nothing short of a godsend for me! \")"
      ]
    },
    {
      "cell_type": "markdown",
      "metadata": {
        "id": "DXH6Yzz5qJjO"
      },
      "source": [
        "As we see, the sentiment is classified as Positive with 99.8% accuracy score.\n"
      ]
    },
    {
      "cell_type": "markdown",
      "source": [
        "---\n",
        "\n",
        "### TODO 1 : Now, do it with your your own word or sentence."
      ],
      "metadata": {
        "id": "WWR4BbBOvxaX"
      }
    },
    {
      "cell_type": "code",
      "source": [
        "# TODO :\n",
        "classifier = pipeline(\"sentiment-analysis\", model=\"distilbert-base-uncased-finetuned-sst-2-english\")\n",
        "classifier(\"I hate doing homework\")"
      ],
      "metadata": {
        "id": "RjMIEKAZvt5T",
        "colab": {
          "base_uri": "https://localhost:8080/"
        },
        "outputId": "cbc4ad3a-70c7-499c-c6b6-f47f86f599bd"
      },
      "execution_count": 10,
      "outputs": [
        {
          "output_type": "stream",
          "name": "stderr",
          "text": [
            "Device set to use cuda:0\n"
          ]
        },
        {
          "output_type": "execute_result",
          "data": {
            "text/plain": [
              "[{'label': 'NEGATIVE', 'score': 0.9994533658027649}]"
            ]
          },
          "metadata": {},
          "execution_count": 10
        }
      ]
    },
    {
      "cell_type": "markdown",
      "source": [
        "---"
      ],
      "metadata": {
        "id": "1HyZelxTvuSf"
      }
    },
    {
      "cell_type": "markdown",
      "metadata": {
        "id": "Z1q2R2FwqJjO"
      },
      "source": [
        "### Example 2 - [Topic Classification](https://huggingface.co/facebook/bart-large-mnli?utm_medium=Exinfluencer&utm_source=Exinfluencer&utm_content=000026UJ&utm_term=10006555&utm_id=NA-SkillsNetwork-Channel-SkillsNetworkGuidedProjectsIBMGPXX0AIAEN102-2022-01-01)\n",
        "\n",
        "\n",
        "**Topic Classification** task classifies sequences into specified class names. It applies \"zero-shot-classification\" algorithm to perform this task. Zero-Shot Learning (ZSL) is when a classifier learns on one set of labels and then evaluates on a different set of labels, the ones that it has never seen before.  [This link](https://joeddav.github.io/blog/2020/05/29/ZSL.html?utm_medium=Exinfluencer&utm_source=Exinfluencer&utm_content=000026UJ&utm_term=10006555&utm_id=NA-SkillsNetwork-Channel-SkillsNetworkGuidedProjectsIBMGPXX0AIAEN102-2022-01-01) has more information about ZSL.\n",
        "As shown in the Diagram below, we also need to specify some kind of descriptor (input labels) for an unseen class (such as a set of visual attributes or simply the class name) in order for our model to be able to predict that class without training data.\n",
        "\n",
        "<center> <img src=\"https://cf-courses-data.s3.us.cloud-object-storage.appdomain.cloud/IBM-GPXX0AIAEN/sent_analysis5.png\" width=\"70%\"> <center>\n",
        "\n",
        "First, we load a pipeline with \"zero-shot-classification\", pass a sequence that we want to classify and a list of candidate labels and see how the model will assign corresponding labels to the input.\n"
      ]
    },
    {
      "cell_type": "code",
      "execution_count": 11,
      "metadata": {
        "id": "5vwxBumVqJjO",
        "colab": {
          "base_uri": "https://localhost:8080/"
        },
        "outputId": "9c15d521-5c9f-4479-f088-8868fe70422a"
      },
      "outputs": [
        {
          "output_type": "stream",
          "name": "stderr",
          "text": [
            "Device set to use cuda:0\n"
          ]
        },
        {
          "output_type": "execute_result",
          "data": {
            "text/plain": [
              "{'sequence': 'Exploratory Data Analysis is the first course in Machine Learning Program that introduces learners to the broad range of Machine Learning concepts, applications, challenges, and solutions, while utilizing interesting real-life datasets',\n",
              " 'labels': ['data analysis', 'art', 'natural science'],\n",
              " 'scores': [0.9957792162895203, 0.0026982570998370647, 0.0015224907547235489]}"
            ]
          },
          "metadata": {},
          "execution_count": 11
        }
      ],
      "source": [
        "classifier = pipeline(\"zero-shot-classification\", model=\"facebook/bart-large-mnli\")\n",
        "classifier(\n",
        "    \"Exploratory Data Analysis is the first course in Machine Learning Program that introduces learners to the broad range of Machine Learning concepts, applications, challenges, and solutions, while utilizing interesting real-life datasets\",\n",
        "    candidate_labels=[\"art\", \"natural science\", \"data analysis\"],\n",
        ")"
      ]
    },
    {
      "cell_type": "markdown",
      "metadata": {
        "id": "egohDK79qJjO"
      },
      "source": [
        "As we see, 'data analysis' is the most successful candidate for the topic of this input, having 99.6% score.\n"
      ]
    },
    {
      "cell_type": "markdown",
      "source": [
        "---\n",
        "### TODO 2 : Now, do it with your own word or sentence."
      ],
      "metadata": {
        "id": "U9sAvDQOwt1V"
      }
    },
    {
      "cell_type": "code",
      "source": [
        "# TODO :\n",
        "classifier = pipeline(\"zero-shot-classification\", model=\"facebook/bart-large-mnli\")\n",
        "classifier(\n",
        "    \"The process of photosynthesis allows plants to convert sunlight into chemical energy, producing oxygen as a byproduct.\",\n",
        "    candidate_labels=[\"biology\", \"astronomy\", \"computer science\"],\n",
        ")"
      ],
      "metadata": {
        "id": "UWoblc6Ywyhj",
        "colab": {
          "base_uri": "https://localhost:8080/"
        },
        "outputId": "7751ab1f-f76e-4856-e00c-000ac790c18c"
      },
      "execution_count": 12,
      "outputs": [
        {
          "output_type": "stream",
          "name": "stderr",
          "text": [
            "Device set to use cuda:0\n"
          ]
        },
        {
          "output_type": "execute_result",
          "data": {
            "text/plain": [
              "{'sequence': 'The process of photosynthesis allows plants to convert sunlight into chemical energy, producing oxygen as a byproduct.',\n",
              " 'labels': ['biology', 'astronomy', 'computer science'],\n",
              " 'scores': [0.9557250142097473, 0.02259746380150318, 0.021677479147911072]}"
            ]
          },
          "metadata": {},
          "execution_count": 12
        }
      ]
    },
    {
      "cell_type": "markdown",
      "source": [
        "---"
      ],
      "metadata": {
        "id": "bLspd27Cwy_0"
      }
    },
    {
      "cell_type": "markdown",
      "metadata": {
        "id": "EGql724QqJjO"
      },
      "source": [
        "### Example 3 - [Text Generator](https://huggingface.co/tasks/text-generation?utm_medium=Exinfluencer&utm_source=Exinfluencer&utm_content=000026UJ&utm_term=10006555&utm_id=NA-SkillsNetwork-Channel-SkillsNetworkGuidedProjectsIBMGPXX0AIAEN102-2022-01-01)\n",
        "\n",
        "\n",
        "**Text Generation** model is also known as causal language model, is a task of predicting a next word in a sentence, given some previous input. This task is very similar to the auto-correct function we have on our phones. Classification metric cannot be used in this task, as there is no single correct answer. Instead, text distribution auto-completed by the model is evaluated by the cross entropy loss and perplexity. The default model behind Text Generation is Generative Pre-trained Transformer 2, [GPT-2](https://huggingface.co/docs/transformers/model_doc/gpt2?utm_medium=Exinfluencer&utm_source=Exinfluencer&utm_content=000026UJ&utm_term=10006555&utm_id=NA-SkillsNetwork-Channel-SkillsNetworkGuidedProjectsIBMGPXX0AIAEN102-2022-01-01) model. It can receive an input like \"This course will teach you\" and proceed to complete the sentence based on those first words, as shown in the Diagram below.\n",
        "\n",
        "<center> <img src=\"https://cf-courses-data.s3.us.cloud-object-storage.appdomain.cloud/IBM-GPXX0AIAEN/text_gener2.png\" width=\"60%\" alt=\"iris image\"> <center>\n",
        "\n",
        "Similarly to Completion Generation Models, we also have Text-to-Text Models. These models are trained to learn the mapping between a pair of texts (e.g. translation from one language to another). The most popular variants of these models are T5, T0 and BART. Text-to-Text models are trained with multi-tasking capabilities, they can accomplish a wide range of tasks, including summarization, translation, and text classification.\n",
        "\n",
        "Interestingly, causal language models can also be used to generate a code to help programmers in their repetitive coding tasks.\n",
        "\n",
        "To begin our analysis, we can load a pipeline with the default \"text-generation\" model:\n"
      ]
    },
    {
      "cell_type": "code",
      "execution_count": 13,
      "metadata": {
        "id": "9usb20olqJjO",
        "colab": {
          "base_uri": "https://localhost:8080/"
        },
        "outputId": "0e7039a0-452b-4e54-b29b-d6ff2a31ec18"
      },
      "outputs": [
        {
          "output_type": "stream",
          "name": "stderr",
          "text": [
            "Device set to use cuda:0\n",
            "Setting `pad_token_id` to `eos_token_id`:50256 for open-end generation.\n"
          ]
        },
        {
          "output_type": "execute_result",
          "data": {
            "text/plain": [
              "[{'generated_text': \"This course will teach you how to create a mockup of your own website, which will help you get the most out of your website. You'll also learn how to create a mockup of your own website for your own use.\\n\\nStart on your own website and create your own mockup.\\n\\nWhat is the Future of SEO?\\n\\nIf you're an SEO professional, you should know that there is a growing trend to improve your SEO. You're likely to get better results with your own website. In fact, we've been told that a lot of the SEO companies are trying to increase their SEO by improving their SEO.\\n\\nSo, how is it that SEO companies are trying to increase their SEO? Well, they're trying to make sure that their website has the right content to get you, and that they're not giving up on your users.\\n\\nNow, let's take a look at some numbers to see how much people are getting paid for their websites.\\n\\nHow many employees are there at Google?\\n\\nWhat percentage of each of the Google employees are paid for their websites?\\n\\nLet's take a look at some numbers and see how much companies are doing.\\n\\nGoogle's payroll\\n\\nThe company payroll is a unit of the company\"}]"
            ]
          },
          "metadata": {},
          "execution_count": 13
        }
      ],
      "source": [
        "generator = pipeline(\"text-generation\", model=\"gpt2\")\n",
        "generator(\"This course will teach you\")"
      ]
    },
    {
      "cell_type": "markdown",
      "metadata": {
        "id": "8ULbVXGAqJjO"
      },
      "source": [
        "Alternatively, we can also use \"distilgpt2\" model, as well as some parameters, such length and number of the sentences needed. Distilled GPT-2 model is an English-language model pre-trained with the supervision of the smallest version of GPT-2. Like GPT-2, DistilGPT2 can be used to generate text. For more information about this model, please visit this [link](https://huggingface.co/distilgpt2?utm_medium=Exinfluencer&utm_source=Exinfluencer&utm_content=000026UJ&utm_term=10006555&utm_id=NA-SkillsNetwork-Channel-SkillsNetworkGuidedProjectsIBMGPXX0AIAEN102-2022-01-01).\n"
      ]
    },
    {
      "cell_type": "code",
      "execution_count": 14,
      "metadata": {
        "id": "RRYSkVieqJjS",
        "colab": {
          "base_uri": "https://localhost:8080/"
        },
        "outputId": "1057b310-1174-447f-dac7-c96f2c6b4c86"
      },
      "outputs": [
        {
          "output_type": "stream",
          "name": "stderr",
          "text": [
            "Device set to use cuda:0\n",
            "Setting `pad_token_id` to `eos_token_id`:50256 for open-end generation.\n"
          ]
        },
        {
          "output_type": "execute_result",
          "data": {
            "text/plain": [
              "[{'generated_text': 'This course will teach you how to write a Java application.\\n\\n\\n\\nThis course will teach you how to write a'},\n",
              " {'generated_text': 'This course will teach you how to use Windows PowerShell to create your own PowerShell applications.\\n\\n\\n\\n\\n\\n\\n\\n'}]"
            ]
          },
          "metadata": {},
          "execution_count": 14
        }
      ],
      "source": [
        "generator = pipeline(\"text-generation\", model=\"distilgpt2\")\n",
        "generator(\n",
        "    \"This course will teach you\",\n",
        "    max_new_tokens=20,\n",
        "    num_return_sequences=2,\n",
        ")"
      ]
    },
    {
      "cell_type": "markdown",
      "source": [
        "---\n",
        "### TODO 3 : Now, do it with your own word or sentence to be completed by the model\n",
        "\n",
        "> To minimize error, use at least 10-15 words in one sentence, then end it so the model can complete it."
      ],
      "metadata": {
        "id": "2ojyej0JxZFl"
      }
    },
    {
      "cell_type": "code",
      "source": [
        "# TODO :\n",
        "generator = pipeline(\"text-generation\", model=\"distilgpt2\") # or change to gpt-2\n",
        "generator(\n",
        "    \"If you do this exercise every night, you will feel\",\n",
        "    max_new_tokens=20,\n",
        "    num_return_sequences=2,\n",
        ")"
      ],
      "metadata": {
        "id": "AwcJRG-rxhZ8",
        "colab": {
          "base_uri": "https://localhost:8080/"
        },
        "outputId": "c2df6dd0-d5a6-419f-ad5a-b87200552d88"
      },
      "execution_count": 15,
      "outputs": [
        {
          "output_type": "stream",
          "name": "stderr",
          "text": [
            "Device set to use cuda:0\n",
            "Setting `pad_token_id` to `eos_token_id`:50256 for open-end generation.\n"
          ]
        },
        {
          "output_type": "execute_result",
          "data": {
            "text/plain": [
              "[{'generated_text': 'If you do this exercise every night, you will feel the need to get back to work, as you can tell. You will feel your heart beat and'},\n",
              " {'generated_text': 'If you do this exercise every night, you will feel like you are doing something wrong.\\n\\n\\nI have a lot to say about this exercise and'}]"
            ]
          },
          "metadata": {},
          "execution_count": 15
        }
      ]
    },
    {
      "cell_type": "markdown",
      "source": [
        "---"
      ],
      "metadata": {
        "id": "a5h-PSQ5yMnx"
      }
    },
    {
      "cell_type": "markdown",
      "metadata": {
        "id": "eZRTH9PWqJjS"
      },
      "source": [
        "#### Masked Language Modeling\n",
        "\n",
        "\n",
        "Sometimes, it is useful to use Masked Language modeling, which also has Text Generation capabilities. **Masked language** modeling is the task of masking some of the words in a sentence and predicting which words should replace those masks. These models are useful when we want to get a statistical understanding of the language in which the model is trained in. Masked language models do not require labelled data! They are trained by masking a couple of words in sentences and the model is expected to guess the masked word. The Diagram below shows a simple representation of this concept.\n",
        "\n",
        "<center> <img src=\"https://cf-courses-data.s3.us.cloud-object-storage.appdomain.cloud/IBM-GPXX0AIAEN/fill_mask3.png\" width=\"60%\" alt=\"iris image\"> <center>\n",
        "\n",
        "For example, masked language modeling is used to train large models for domain-specific problems. If you have to work on a domain-specific task, such as retrieving information from medical research papers, you can train a masked language model using those papers.\n",
        "\n",
        "For more information about \"fill-mask\" model you can read [here.](https://huggingface.co/tasks/fill-mask?utm_medium=Exinfluencer&utm_source=Exinfluencer&utm_content=000026UJ&utm_term=10006555&utm_id=NA-SkillsNetwork-Channel-SkillsNetworkGuidedProjectsIBMGPXX0AIAEN102-2022-01-01)\n",
        "The Example below, shows a few options for a 'masked' word in the input sentence. Let's see 4 options in the output.\n"
      ]
    },
    {
      "cell_type": "code",
      "execution_count": 16,
      "metadata": {
        "id": "uT5KYshLqJjS",
        "colab": {
          "base_uri": "https://localhost:8080/"
        },
        "outputId": "c2f8a65a-5845-43d3-8500-f2afe0c26f67"
      },
      "outputs": [
        {
          "output_type": "stream",
          "name": "stderr",
          "text": [
            "Some weights of the model checkpoint at distilroberta-base were not used when initializing RobertaForMaskedLM: ['roberta.pooler.dense.bias', 'roberta.pooler.dense.weight']\n",
            "- This IS expected if you are initializing RobertaForMaskedLM from the checkpoint of a model trained on another task or with another architecture (e.g. initializing a BertForSequenceClassification model from a BertForPreTraining model).\n",
            "- This IS NOT expected if you are initializing RobertaForMaskedLM from the checkpoint of a model that you expect to be exactly identical (initializing a BertForSequenceClassification model from a BertForSequenceClassification model).\n",
            "Device set to use cuda:0\n"
          ]
        },
        {
          "output_type": "execute_result",
          "data": {
            "text/plain": [
              "[{'score': 0.19619743525981903,\n",
              "  'token': 30412,\n",
              "  'token_str': ' mathematical',\n",
              "  'sequence': 'This course will teach you all about mathematical models.'},\n",
              " {'score': 0.04052695631980896,\n",
              "  'token': 38163,\n",
              "  'token_str': ' computational',\n",
              "  'sequence': 'This course will teach you all about computational models.'},\n",
              " {'score': 0.033017825335264206,\n",
              "  'token': 27930,\n",
              "  'token_str': ' predictive',\n",
              "  'sequence': 'This course will teach you all about predictive models.'},\n",
              " {'score': 0.03194141760468483,\n",
              "  'token': 745,\n",
              "  'token_str': ' building',\n",
              "  'sequence': 'This course will teach you all about building models.'}]"
            ]
          },
          "metadata": {},
          "execution_count": 16
        }
      ],
      "source": [
        "unmasker = pipeline(\"fill-mask\", \"distilroberta-base\")\n",
        "unmasker(\"This course will teach you all about <mask> models.\", top_k=4)"
      ]
    },
    {
      "cell_type": "markdown",
      "source": [
        "---\n",
        "### TODO 3.5 : Now, do it with your own masked word or sentence to be predicted by the model."
      ],
      "metadata": {
        "id": "wdKbFawKyKrl"
      }
    },
    {
      "cell_type": "code",
      "source": [
        "unmasker = pipeline(\"fill-mask\", \"distilroberta-base\")\n",
        "unmasker(\"Machine learning <mask> are becoming increasingly popular.\", top_k=4)"
      ],
      "metadata": {
        "id": "FUqZPvd6yZNa",
        "colab": {
          "base_uri": "https://localhost:8080/"
        },
        "outputId": "9f6b3f69-5835-41fa-cbb7-cae6f6943fe2"
      },
      "execution_count": 17,
      "outputs": [
        {
          "output_type": "stream",
          "name": "stderr",
          "text": [
            "Some weights of the model checkpoint at distilroberta-base were not used when initializing RobertaForMaskedLM: ['roberta.pooler.dense.bias', 'roberta.pooler.dense.weight']\n",
            "- This IS expected if you are initializing RobertaForMaskedLM from the checkpoint of a model trained on another task or with another architecture (e.g. initializing a BertForSequenceClassification model from a BertForPreTraining model).\n",
            "- This IS NOT expected if you are initializing RobertaForMaskedLM from the checkpoint of a model that you expect to be exactly identical (initializing a BertForSequenceClassification model from a BertForSequenceClassification model).\n",
            "Device set to use cuda:0\n"
          ]
        },
        {
          "output_type": "execute_result",
          "data": {
            "text/plain": [
              "[{'score': 0.5227693319320679,\n",
              "  'token': 16964,\n",
              "  'token_str': ' algorithms',\n",
              "  'sequence': 'Machine learning algorithms are becoming increasingly popular.'},\n",
              " {'score': 0.09647637605667114,\n",
              "  'token': 7373,\n",
              "  'token_str': ' techniques',\n",
              "  'sequence': 'Machine learning techniques are becoming increasingly popular.'},\n",
              " {'score': 0.05672439932823181,\n",
              "  'token': 2975,\n",
              "  'token_str': ' applications',\n",
              "  'sequence': 'Machine learning applications are becoming increasingly popular.'},\n",
              " {'score': 0.03835589066147804,\n",
              "  'token': 4233,\n",
              "  'token_str': ' technologies',\n",
              "  'sequence': 'Machine learning technologies are becoming increasingly popular.'}]"
            ]
          },
          "metadata": {},
          "execution_count": 17
        }
      ]
    },
    {
      "cell_type": "markdown",
      "source": [
        "---"
      ],
      "metadata": {
        "id": "6L_aKed3ybuz"
      }
    },
    {
      "cell_type": "markdown",
      "metadata": {
        "id": "qCk5iVYmqJjS"
      },
      "source": [
        "### Example 4 - [Name Entity Recognition (NER)](https://huggingface.co/Jean-Baptiste/camembert-ner?utm_medium=Exinfluencer&utm_source=Exinfluencer&utm_content=000026UJ&utm_term=10006555&utm_id=NA-SkillsNetwork-Channel-SkillsNetworkGuidedProjectsIBMGPXX0AIAEN102-2022-01-01)\n",
        "\n",
        "\n",
        "**NER** sometimes also referred as entity chunking, extraction, or identification, is the task of identifying and categorizing key information (entities) in text. The model sorts according to name of the person: 'PER', group: 'ORG', and location: 'LOC' with appropriate accuracy score and token location.\n",
        "\n",
        "The default model behind NER is \"camembert-ner\". It was trained and fine tuned on wikiner-fr dataset (~170 634 sentences). Click [here](https://medium.com/mysuperai/what-is-named-entity-recognition-ner-and-how-can-i-use-it-2b68cf6f545d?utm_medium=Exinfluencer&utm_source=Exinfluencer&utm_content=000026UJ&utm_term=10006555&utm_id=NA-SkillsNetwork-Channel-SkillsNetworkGuidedProjectsIBMGPXX0AIAEN102-2022-01-01) to learn more about NER.\n",
        "\n",
        "<center> <img src=\"https://cf-courses-data.s3.us.cloud-object-storage.appdomain.cloud/IBM-GPXX0AIAEN/ner2.png\" width=\"60%\" alt=\"iris image\"> <center>\n",
        "\n",
        "Let's look at the specific Example, where we load a pipeline with \"ner\" model and some input:\n"
      ]
    },
    {
      "cell_type": "code",
      "execution_count": 18,
      "metadata": {
        "id": "kQdEITHeqJjS",
        "colab": {
          "base_uri": "https://localhost:8080/"
        },
        "outputId": "beb7a84c-b4da-4707-fd25-e6a84b94183c"
      },
      "outputs": [
        {
          "output_type": "stream",
          "name": "stderr",
          "text": [
            "Some weights of the model checkpoint at dbmdz/bert-large-cased-finetuned-conll03-english were not used when initializing BertForTokenClassification: ['bert.pooler.dense.bias', 'bert.pooler.dense.weight']\n",
            "- This IS expected if you are initializing BertForTokenClassification from the checkpoint of a model trained on another task or with another architecture (e.g. initializing a BertForSequenceClassification model from a BertForPreTraining model).\n",
            "- This IS NOT expected if you are initializing BertForTokenClassification from the checkpoint of a model that you expect to be exactly identical (initializing a BertForSequenceClassification model from a BertForSequenceClassification model).\n",
            "Device set to use cuda:0\n"
          ]
        },
        {
          "output_type": "execute_result",
          "data": {
            "text/plain": [
              "[{'entity_group': 'PER',\n",
              "  'score': np.float32(0.9993105),\n",
              "  'word': 'Roberta',\n",
              "  'start': 11,\n",
              "  'end': 18},\n",
              " {'entity_group': 'ORG',\n",
              "  'score': np.float32(0.9976597),\n",
              "  'word': 'IBM Skills Network',\n",
              "  'start': 35,\n",
              "  'end': 53},\n",
              " {'entity_group': 'LOC',\n",
              "  'score': np.float32(0.99702173),\n",
              "  'word': 'Toronto',\n",
              "  'start': 57,\n",
              "  'end': 64}]"
            ]
          },
          "metadata": {},
          "execution_count": 18
        }
      ],
      "source": [
        "ner = pipeline(\"ner\", model=\"dbmdz/bert-large-cased-finetuned-conll03-english\", grouped_entities=True)\n",
        "ner(\"My name is Roberta and I work with IBM Skills Network in Toronto\")\n"
      ]
    },
    {
      "cell_type": "code",
      "execution_count": 19,
      "metadata": {
        "id": "T80YVyUBqJjS"
      },
      "outputs": [],
      "source": [
        "del ner"
      ]
    },
    {
      "cell_type": "markdown",
      "source": [
        "---\n",
        "### TODO 4 : Now, do it with your own word or sentence to be NER-ed by the model."
      ],
      "metadata": {
        "id": "n89Jg6WKyzMf"
      }
    },
    {
      "cell_type": "code",
      "source": [
        "ner = pipeline(\"ner\", model=\"dbmdz/bert-large-cased-finetuned-conll03-english\", grouped_entities=True)\n",
        "ner(\"My name is Juno, I study at Universitas Indonesia, Depok\")"
      ],
      "metadata": {
        "id": "KvrK_PRMy2CP",
        "colab": {
          "base_uri": "https://localhost:8080/"
        },
        "outputId": "50ab9c7f-440f-4d4f-af76-b0b130c73da3"
      },
      "execution_count": 20,
      "outputs": [
        {
          "output_type": "stream",
          "name": "stderr",
          "text": [
            "Some weights of the model checkpoint at dbmdz/bert-large-cased-finetuned-conll03-english were not used when initializing BertForTokenClassification: ['bert.pooler.dense.bias', 'bert.pooler.dense.weight']\n",
            "- This IS expected if you are initializing BertForTokenClassification from the checkpoint of a model trained on another task or with another architecture (e.g. initializing a BertForSequenceClassification model from a BertForPreTraining model).\n",
            "- This IS NOT expected if you are initializing BertForTokenClassification from the checkpoint of a model that you expect to be exactly identical (initializing a BertForSequenceClassification model from a BertForSequenceClassification model).\n",
            "Device set to use cuda:0\n"
          ]
        },
        {
          "output_type": "execute_result",
          "data": {
            "text/plain": [
              "[{'entity_group': 'PER',\n",
              "  'score': np.float32(0.9983315),\n",
              "  'word': 'Juno',\n",
              "  'start': 11,\n",
              "  'end': 15},\n",
              " {'entity_group': 'ORG',\n",
              "  'score': np.float32(0.99091995),\n",
              "  'word': 'Universitas Indonesia',\n",
              "  'start': 28,\n",
              "  'end': 49},\n",
              " {'entity_group': 'LOC',\n",
              "  'score': np.float32(0.88748723),\n",
              "  'word': 'Depok',\n",
              "  'start': 51,\n",
              "  'end': 56}]"
            ]
          },
          "metadata": {},
          "execution_count": 20
        }
      ]
    },
    {
      "cell_type": "markdown",
      "source": [
        "---"
      ],
      "metadata": {
        "id": "ohW88jy0y2SC"
      }
    },
    {
      "cell_type": "markdown",
      "metadata": {
        "id": "NPCaVZ7vqJjT"
      },
      "source": [
        "As we see, the model properly identifies all entities in the sentence with highest confidence scores.\n"
      ]
    },
    {
      "cell_type": "markdown",
      "metadata": {
        "id": "JsJKQrbLqJjT"
      },
      "source": [
        "### Example 5 - [Question Answering](https://huggingface.co/tasks/question-answering?utm_medium=Exinfluencer&utm_source=Exinfluencer&utm_content=000026UJ&utm_term=10006555&utm_id=NA-SkillsNetwork-Channel-SkillsNetworkGuidedProjectsIBMGPXX0AIAEN102-2022-01-01)\n",
        "\n",
        "\n",
        "Another widely used application of Hugging Face transformers is Question Answering task. **Question Answering** is the task of extracting an answer from a document. QA models take in a context parameter, which is a document in which you are searching for some information, and a question, and return an answer. The answer is being extracted, not generated. The task is evaluated on two metrics: exact match and F1-score.\n",
        "As discussed in Example 3, there are also other QA models that are not extractive but generative. They generate free text directly based on the context, as shown in the Diagram below.\n",
        "\n",
        "<center> <img src=\"https://cf-courses-data.s3.us.cloud-object-storage.appdomain.cloud/IBM-GPXX0AIAEN/q_a1.png\" width=\"60%\"> <center>\n",
        "\n",
        "Let's look at the Example where we have some context and we try to extract some information from it.\n",
        "First, we load the `pipeline()` with \"question-answering\" identifier. We also input our question and content. Then we apply our model to the input.\n"
      ]
    },
    {
      "cell_type": "code",
      "execution_count": 21,
      "metadata": {
        "id": "24RLaXKxqJjT",
        "colab": {
          "base_uri": "https://localhost:8080/"
        },
        "outputId": "51bdc023-876e-4368-b0e8-a5ede39d4f73"
      },
      "outputs": [
        {
          "output_type": "stream",
          "name": "stderr",
          "text": [
            "Device set to use cuda:0\n"
          ]
        },
        {
          "output_type": "execute_result",
          "data": {
            "text/plain": [
              "{'score': 0.8247060179710388, 'start': 48, 'end': 56, 'answer': 'Amazonia'}"
            ]
          },
          "metadata": {},
          "execution_count": 21
        }
      ],
      "source": [
        "qa_model = pipeline(\"question-answering\", model=\"distilbert-base-cased-distilled-squad\")\n",
        "question = \"Which name is also used to describe the Amazon rainforest in English?\"\n",
        "context = \"The Amazon rainforest, also known in English as Amazonia or the Amazon Jungle.\"\n",
        "qa_model(question = question, context = context)"
      ]
    },
    {
      "cell_type": "markdown",
      "metadata": {
        "id": "1mqJtq7kqJjT"
      },
      "source": [
        "As we see, the correct answer has been extracted with 82% confidence score.\n"
      ]
    },
    {
      "cell_type": "markdown",
      "source": [
        "---\n",
        "### TODO 5 : Make your own question and context so the model can answer the question. Use English only."
      ],
      "metadata": {
        "id": "F-iIXRyCz_-S"
      }
    },
    {
      "cell_type": "code",
      "source": [
        "qa_model = pipeline(\"question-answering\", model=\"distilbert-base-cased-distilled-squad\")\n",
        "question = \"What is the capital city of France?\"\n",
        "context = \"France is a country in Western Europe. Its capital city is Paris, which is known for its art, gastronomy, and culture.\"\n",
        "qa_model(question = question, context = context)"
      ],
      "metadata": {
        "id": "QvCJ3c_-0H9S",
        "colab": {
          "base_uri": "https://localhost:8080/"
        },
        "outputId": "897088c6-130a-4c90-8339-682c69b3b035"
      },
      "execution_count": 22,
      "outputs": [
        {
          "output_type": "stream",
          "name": "stderr",
          "text": [
            "Device set to use cuda:0\n"
          ]
        },
        {
          "output_type": "execute_result",
          "data": {
            "text/plain": [
              "{'score': 0.9910958409309387, 'start': 59, 'end': 64, 'answer': 'Paris'}"
            ]
          },
          "metadata": {},
          "execution_count": 22
        }
      ]
    },
    {
      "cell_type": "markdown",
      "source": [
        "---"
      ],
      "metadata": {
        "id": "u_6B-EsT0nMR"
      }
    },
    {
      "cell_type": "markdown",
      "metadata": {
        "id": "Xn9lzUZAqJjT"
      },
      "source": [
        "### Example 6: [Text Summarization](https://huggingface.co/tasks/summarization?utm_medium=Exinfluencer&utm_source=Exinfluencer&utm_content=000026UJ&utm_term=10006555&utm_id=NA-SkillsNetwork-Channel-SkillsNetworkGuidedProjectsIBMGPXX0AIAEN102-2022-01-01)\n",
        "\n",
        "\n",
        "The next Example of this Guided Project deals with Text Summarization. **Text Summarization** is the task of creating a shorter version of a document, while preserving the relevant information and importance of the original document. The summarizer model takes in the whole document as input and outputs the summarized version. The evaluation metric used in this analysis is called Rouge. It is a benchmark based on the shared sabsequent tokens between the produced sequence and the original document.\n",
        "\n",
        "<center> <img src=\"https://cf-courses-data.s3.us.cloud-object-storage.appdomain.cloud/IBM-GPXX0AIAEN/summarization.png\" width=\"60%\"> <center>\n",
        "\n",
        "Let's load the \"summarization\" pipeline, input some text that we want to summarize, and see what the output will look like.\n"
      ]
    },
    {
      "cell_type": "code",
      "execution_count": 23,
      "metadata": {
        "id": "VkCdEW1bqJjT",
        "colab": {
          "base_uri": "https://localhost:8080/"
        },
        "outputId": "50ae8468-2b2a-4fa0-a49a-f656db3078d6"
      },
      "outputs": [
        {
          "output_type": "stream",
          "name": "stderr",
          "text": [
            "Device set to use cuda:0\n"
          ]
        },
        {
          "output_type": "execute_result",
          "data": {
            "text/plain": [
              "[{'summary_text': ' Exploratory Data Analysis is the first course in Machine Learning Program that introduces learners to the broad range of Machine Learning concepts, applications, challenges, and solutions . EDA is a visual and statistical process that allows us to take a glimpse into the data before the analysis . It lays foundation for the analysis so our results go along with our expectations .'}]"
            ]
          },
          "metadata": {},
          "execution_count": 23
        }
      ],
      "source": [
        "summarizer = pipeline(\"summarization\", model=\"sshleifer/distilbart-cnn-12-6\")\n",
        "summarizer(\n",
        "    \"\"\"\n",
        "Exploratory Data Analysis is the first course in Machine Learning Program that introduces learners to the broad range of Machine Learning concepts, applications, challenges, and solutions, while utilizing interesting real-life datasets. So, what is EDA and why is it important to perform it before we dive into any analysis?\n",
        "EDA is a visual and statistical process that allows us to take a glimpse into the data before the analysis. It lets us test the assumptions that we might have about the data, proving or disproving our prior believes and biases. It lays foundation for the analysis, so our results go along with our expectations. In a way, it’s a quality check for our predictions.\n",
        "As any data scientist would agree, the most challenging part in any data analysis is to obtain a good quality data to work with. Nothing is served to us on a silver plate, data comes in different shapes and formats. It can be structured and unstructured, it may contain errors or be biased, it may have missing fields, it can have different formats than what an untrained eye would perceive. For example, when we import some data, very often it would contain a time stamp. To a human it is understandable format that can interpreted. But to a machine, it is not interpretable, so it needs to be told what that means, the data needs to be transformed into simple numbers first. There are also different date-time conventions depending on a country (i.e., Canadian versus USA), metric versus imperial systems, and many other data features that need to be recognized before we start doing the analysis. Therefore, the first step before performing any analysis – is get really aquatinted with your data!\n",
        "This course will teach you to ‘see’ and to ‘feel’ the data as well as to transform it into analysis-ready format. It is introductory level course, so no prior knowledge is required, and it is a good starting point if you are interested in getting into the world of Machine Learning. The only thing that is needed is some computer with internet, your curiosity and eagerness to learn and to apply acquired knowledge.  If you live in Canada, you might be interested about gasoline prices in different cities or if you are an insurance actuary you need to analyze the financial risks that you will take based on your clients information. Whatever is the case, you will be able to do your own analysis, and confirm or disprove some of the existing information.\n",
        "The course contains videos and reading materials, as well as well as a lot of interactive practice labs that learners can explore and apply the skills learned. It will allow you to use Python language in Jupyter Notebook, a cloud-based skills network environment that is pre-set for you with all available to be downloaded packages and libraries. It will introduce you to the most common visualization libraries such as Pandas, Seaborn, and Matplotlib to demonstrate various EDA techniques with some real-life datasets.\n",
        "\n",
        "\"\"\"\n",
        ")"
      ]
    },
    {
      "cell_type": "code",
      "execution_count": 24,
      "metadata": {
        "id": "K2L3ccvAqJjT"
      },
      "outputs": [],
      "source": [
        "del summarizer"
      ]
    },
    {
      "cell_type": "markdown",
      "source": [
        "---\n",
        "### TODO 6 : Make your own sentence, make it 140 words, in English or Indonesian, then summary it with the model."
      ],
      "metadata": {
        "id": "C1nqA8kf1Pmz"
      }
    },
    {
      "cell_type": "code",
      "source": [
        "summarizer = pipeline(\"summarization\", model=\"sshleifer/distilbart-cnn-12-6\")\n",
        "summarizer(\"\"\"\n",
        "Indonesia is one of the most biodiverse countries in the world, home to thousands of species of flora and fauna found nowhere else. From the rainforests of Kalimantan to the coral reefs of Raja Ampat, the natural richness of the archipelago is unmatched. However, this incredible biodiversity is under threat due to rapid deforestation, illegal wildlife trade, and climate change. Many species are endangered, and ecosystems are being disrupted at an alarming rate. To combat this, local communities, environmental organizations, and governments must collaborate in creating sustainable conservation strategies. Education and awareness are also crucial in ensuring future generations understand the value of protecting nature. By adopting eco-friendly practices and supporting conservation programs, individuals can make a significant difference. The fight to preserve Indonesia’s natural heritage is not easy, but it is essential for maintaining the balance of life on Earth.\n",
        "\"\"\")"
      ],
      "metadata": {
        "id": "ELXoHWMm1P36",
        "colab": {
          "base_uri": "https://localhost:8080/"
        },
        "outputId": "6eef4485-dc00-407c-e89e-b8f84fb60e14"
      },
      "execution_count": 25,
      "outputs": [
        {
          "output_type": "stream",
          "name": "stderr",
          "text": [
            "Device set to use cuda:0\n"
          ]
        },
        {
          "output_type": "execute_result",
          "data": {
            "text/plain": [
              "[{'summary_text': ' Indonesia is one of the most biodiverse countries in the world, home to thousands of species of flora and fauna found nowhere else . Many species are endangered, and ecosystems are being disrupted at an alarming rate . The fight to preserve Indonesia’s natural heritage is not easy, but it is essential for maintaining the balance on Earth .'}]"
            ]
          },
          "metadata": {},
          "execution_count": 25
        }
      ]
    },
    {
      "cell_type": "markdown",
      "source": [
        "---"
      ],
      "metadata": {
        "id": "RiO7YWKw1m7e"
      }
    },
    {
      "cell_type": "markdown",
      "metadata": {
        "id": "QucUm7bFqJjU"
      },
      "source": [
        "The result is a short summary of our paragraph.\n"
      ]
    },
    {
      "cell_type": "markdown",
      "metadata": {
        "id": "8L6rF52RqJjU"
      },
      "source": [
        "### Example 7 - [Translation](https://huggingface.co/course/chapter7/4?utm_medium=Exinfluencer&utm_source=Exinfluencer&utm_content=000026UJ&utm_term=10006555&utm_id=NA-SkillsNetwork-Channel-SkillsNetworkGuidedProjectsIBMGPXX0AIAEN102-2022-01-01&fw=pt)\n",
        "\n",
        "The last Example of this Guided Project shows the Translation application. **Translation** models take an input in some source language and output the translation in a target language. The evaluation metric used for this task is called BLEU (bilingual evaluation understudy). It is an algorithm for evaluating the quality of text which has been machine-translated from one natural language to another. It is on a scale from 0 to 1, 1 meaning perfect score.\n",
        "\n",
        "The are two types of models, *monolingual* models, trained on a specific language duo data, and there are *multilingual* models, trained on multiple languages dataset.\n",
        "\n",
        "\n",
        "<center> <img src=\"https://cf-courses-data.s3.us.cloud-object-storage.appdomain.cloud/IBM-GPXX0AIAEN/translation.png\" width=\"70%\"> <center>\n",
        "\n",
        "The Example below shows a monolingual, French-English model, \"translation_en_to_fr\", which levereges T5-base model under the hood. These models add a task prefix, e.g., \"_en_to_fr\", indicating the task itself, such as translate English to French. There are also multilingual models for inference. Their inference usage differs from monolingual models. For more information on how to use multilingual models, please visit this [documentation](https://huggingface.co/transformers/v3.0.2/multilingual.html?utm_medium=Exinfluencer&utm_source=Exinfluencer&utm_content=000026UJ&utm_term=10006555&utm_id=NA-SkillsNetwork-Channel-SkillsNetworkGuidedProjectsIBMGPXX0AIAEN102-2022-01-01).\n"
      ]
    },
    {
      "cell_type": "code",
      "execution_count": 26,
      "metadata": {
        "id": "7NoPtO9XqJjU",
        "colab": {
          "base_uri": "https://localhost:8080/"
        },
        "outputId": "bc3595ce-31f2-47dd-d054-871b360c52e0"
      },
      "outputs": [
        {
          "output_type": "stream",
          "name": "stderr",
          "text": [
            "Device set to use cuda:0\n"
          ]
        },
        {
          "output_type": "execute_result",
          "data": {
            "text/plain": [
              "[{'translation_text': 'Quel est votre âge ?'}]"
            ]
          },
          "metadata": {},
          "execution_count": 26
        }
      ],
      "source": [
        "en_fr_translator = pipeline(\"translation_en_to_fr\", model=\"t5-small\")\n",
        "en_fr_translator(\"How old are you?\")"
      ]
    },
    {
      "cell_type": "markdown",
      "metadata": {
        "id": "63RhqJQaqJjU"
      },
      "source": [
        "If you would like to use a specific model that is from one specific language to another, you can also directly use the translation pipeline without specifying the model under the hood.\n"
      ]
    },
    {
      "cell_type": "code",
      "execution_count": 27,
      "metadata": {
        "id": "znnZ5xgLqJjU",
        "colab": {
          "base_uri": "https://localhost:8080/"
        },
        "outputId": "37b5cbb1-697c-40bc-8a60-a9949e967610"
      },
      "outputs": [
        {
          "output_type": "stream",
          "name": "stderr",
          "text": [
            "Device set to use cuda:0\n"
          ]
        },
        {
          "output_type": "execute_result",
          "data": {
            "text/plain": [
              "[{'translation_text': 'Data science is the best.'}]"
            ]
          },
          "metadata": {},
          "execution_count": 27
        }
      ],
      "source": [
        "translator = pipeline(\"translation\", model=\"Helsinki-NLP/opus-mt-fr-en\")\n",
        "translator(\"La science des données est la meilleure.\")"
      ]
    },
    {
      "cell_type": "markdown",
      "source": [
        "---\n",
        "### TODO 7 : Make your own Indonesian sentence to be translated to France language."
      ],
      "metadata": {
        "id": "Yu6xfJJM2BEA"
      }
    },
    {
      "cell_type": "code",
      "source": [
        "translator_id = pipeline(\"translation\", model=\"Helsinki-NLP/opus-mt-id-fr\")\n",
        "translator_id(\"Saya hobi mendaki gunung\")"
      ],
      "metadata": {
        "id": "3pdFf0Hb2Jfj",
        "colab": {
          "base_uri": "https://localhost:8080/"
        },
        "outputId": "44387d1a-9f8d-4937-d9e2-945f8d49bfdf"
      },
      "execution_count": 28,
      "outputs": [
        {
          "output_type": "stream",
          "name": "stderr",
          "text": [
            "Device set to use cuda:0\n"
          ]
        },
        {
          "output_type": "execute_result",
          "data": {
            "text/plain": [
              "[{'translation_text': \"J'aime grimper dans les montagnes.\"}]"
            ]
          },
          "metadata": {},
          "execution_count": 28
        }
      ]
    },
    {
      "cell_type": "markdown",
      "source": [
        "---"
      ],
      "metadata": {
        "id": "Ftoz6gDD2J0W"
      }
    },
    {
      "cell_type": "markdown",
      "metadata": {
        "id": "3AxhyP52qJjU"
      },
      "source": [
        "# **Let's Practice**\n"
      ]
    },
    {
      "cell_type": "markdown",
      "metadata": {
        "id": "CNGchIGIqJjU"
      },
      "source": [
        "### Exercise 1 - Sentiment Analysis\n",
        "For sentiment analysis, we can also use a specific model that is better suited to our use case by providing the name of the model. For example, if we want a sentiment analysis model for tweets, we can specify the following model id: \"cardiffnlp/twitter-roberta-base-sentiment\". This model has been trained on  ~58M tweets and fine-tuned for sentiment analysis with the \"TweetEval\" benchmark.\n",
        "The output labels for this model are: 0 -> Negative; 1 -> Neutral; 2 -> Positive.\n",
        "\n",
        "In this Exercise, use \"cardiffnlp/twitter-roberta-base-sentiment\" model pre-trained on tweets data, to analyze any tweet of choice. Optionally, use the default model (used in Example 1) on the same tweet, to see if the result will change.\n"
      ]
    },
    {
      "cell_type": "code",
      "execution_count": 37,
      "metadata": {
        "id": "S5HL9tX9qJjV",
        "colab": {
          "base_uri": "https://localhost:8080/"
        },
        "outputId": "44f45565-88ee-482a-a54a-0d978d6c5009"
      },
      "outputs": [
        {
          "output_type": "stream",
          "name": "stderr",
          "text": [
            "Device set to use cuda:0\n"
          ]
        },
        {
          "output_type": "execute_result",
          "data": {
            "text/plain": [
              "[{'label': 'LABEL_1', 'score': 0.6385321617126465}]"
            ]
          },
          "metadata": {},
          "execution_count": 37
        }
      ],
      "source": [
        "# TODO\n",
        "specific_model = pipeline(model=\"cardiffnlp/twitter-roberta-base-sentiment\")\n",
        "data = \"Tomorrow I will go to the city to buy some groceries and meet a friend.\"\n",
        "specific_model(data)"
      ]
    },
    {
      "cell_type": "code",
      "execution_count": 39,
      "metadata": {
        "id": "ScI8dDi0qJjV",
        "colab": {
          "base_uri": "https://localhost:8080/"
        },
        "outputId": "caafd2cc-1f1c-45cd-9cb2-1241fdf811a7"
      },
      "outputs": [
        {
          "output_type": "stream",
          "name": "stderr",
          "text": [
            "No model was supplied, defaulted to distilbert/distilbert-base-uncased-finetuned-sst-2-english and revision 714eb0f (https://huggingface.co/distilbert/distilbert-base-uncased-finetuned-sst-2-english).\n",
            "Using a pipeline without specifying a model name and revision in production is not recommended.\n",
            "Device set to use cuda:0\n"
          ]
        },
        {
          "output_type": "execute_result",
          "data": {
            "text/plain": [
              "[{'label': 'POSITIVE', 'score': 0.99908447265625}]"
            ]
          },
          "metadata": {},
          "execution_count": 39
        }
      ],
      "source": [
        "# TODO\n",
        "original_model = pipeline(\"sentiment-analysis\")\n",
        "data = \"Tomorrow I will go to the city to buy some groceries and meet a friend.\"\n",
        "original_model(data)"
      ]
    },
    {
      "cell_type": "markdown",
      "metadata": {
        "id": "rvpRqoFzqJjV"
      },
      "source": [
        "<details>\n",
        "    <summary>Click here for Solution</summary>\n",
        "\n",
        "```python\n",
        "specific_model = pipeline(model=\"cardiffnlp/twitter-roberta-base-sentiment\")\n",
        "data = \"Artificial intelligence and automation are already causing friction in the workforce. Should schools revamp existing programs for topics like #AI, or are new research areas required?\"\n",
        "specific_model(data)\n",
        "\n",
        "```\n",
        "\n",
        "</details>\n"
      ]
    },
    {
      "cell_type": "markdown",
      "metadata": {
        "id": "0_wCIlreqJjV"
      },
      "source": [
        "<details>\n",
        "    <summary>Click here for Solution</summary>\n",
        "\n",
        "```python\n",
        "original_model = pipeline(\"sentiment-analysis\")\n",
        "data = \"Artificial intelligence and automation are already causing friction in the workforce. Should schools revamp existing programs for topics like #AI, or are new research areas required?\"\n",
        "original_model(data)\n",
        "\n",
        "```\n",
        "\n",
        "</details>\n"
      ]
    },
    {
      "cell_type": "markdown",
      "metadata": {
        "id": "_nqTaGghqJjV"
      },
      "source": [
        "<details>\n",
        "    <summary>Click here for a Hint</summary>\n",
        "    \n",
        "As we see, tweet specific model classifies the tweet as neutral (LABEL_1), which it actually might be, versus the general model, classifies the same tweet as 'NEGATIVE', which is probably not entirely negative.\n",
        "\n",
        "</details>\n"
      ]
    },
    {
      "cell_type": "markdown",
      "metadata": {
        "id": "WA300hpZqJjV"
      },
      "source": [
        "### Exercise 2 - Topic Classification\n",
        "In this Exercise, use any sentence of choice to classify it under any classes/ topics of choice. Use \"zero-shot-classification\" and specify the model=\"facebook/bart-large-mnli\".\n"
      ]
    },
    {
      "cell_type": "code",
      "execution_count": 40,
      "metadata": {
        "id": "QES96y8BqJjV",
        "colab": {
          "base_uri": "https://localhost:8080/"
        },
        "outputId": "6e3960fc-230f-4afc-ffa0-a5f1859f183b"
      },
      "outputs": [
        {
          "output_type": "stream",
          "name": "stderr",
          "text": [
            "Device set to use cuda:0\n"
          ]
        },
        {
          "output_type": "execute_result",
          "data": {
            "text/plain": [
              "{'sequence': 'Online courses helped me understand data science much better.',\n",
              " 'labels': ['technology', 'education', 'finance'],\n",
              " 'scores': [0.6963863372802734, 0.24675911664962769, 0.05685454607009888]}"
            ]
          },
          "metadata": {},
          "execution_count": 40
        }
      ],
      "source": [
        "# TODO\n",
        "classifier = pipeline(\"zero-shot-classification\", model=\"facebook/bart-large-mnli\")\n",
        "classifier(\n",
        "    \"Online courses helped me understand data science much better.\",\n",
        "    candidate_labels=[\"education\", \"technology\", \"finance\"],\n",
        ")"
      ]
    },
    {
      "cell_type": "markdown",
      "metadata": {
        "id": "AgmZHu2JqJjV"
      },
      "source": [
        "<details>\n",
        "    <summary>Click here for Solution</summary>\n",
        "\n",
        "```python\n",
        "classifier = pipeline(\"zero-shot-classification\", model=\"facebook/bart-large-mnli\")\n",
        "classifier(\n",
        "    \"I love travelling and learning new cultures\",\n",
        "    candidate_labels=[\"art\", \"education\", \"travel\"],\n",
        ")\n",
        "```\n",
        "\n",
        "</details>\n"
      ]
    },
    {
      "cell_type": "markdown",
      "metadata": {
        "id": "HhBJxOvxqJjV"
      },
      "source": [
        "### Exercise 3 - Text Generation Models\n",
        "\n",
        "In this Exercise, use 'text-generator' and 'gpt2' model to complete any sentence. Define any desirable number of returned sentences.\n"
      ]
    },
    {
      "cell_type": "code",
      "execution_count": 42,
      "metadata": {
        "id": "0fFrHaBxqJjW",
        "colab": {
          "base_uri": "https://localhost:8080/"
        },
        "outputId": "65d6fea9-782e-449b-b2da-db8edc28ded1"
      },
      "outputs": [
        {
          "output_type": "stream",
          "name": "stderr",
          "text": [
            "Device set to use cuda:0\n",
            "Setting `pad_token_id` to `eos_token_id`:50256 for open-end generation.\n"
          ]
        },
        {
          "output_type": "execute_result",
          "data": {
            "text/plain": [
              "[{'generated_text': 'Machine learning is transforming the way we learn.\\n\\nThe goal is to develop an approach that looks at the role of the brain,'},\n",
              " {'generated_text': 'Machine learning is transforming the way we think and understand our everyday lives, and as a result, we want to make sure that we are'},\n",
              " {'generated_text': 'Machine learning is transforming the way we see everything from the Internet to the big picture of the world.\\n\\nThe world of machine learning'}]"
            ]
          },
          "metadata": {},
          "execution_count": 42
        }
      ],
      "source": [
        "# TODO\n",
        "generator = pipeline('text-generation', model = 'gpt2')\n",
        "generator(\"Machine learning is transforming the way we\", max_new_tokens=20, num_return_sequences=3)"
      ]
    },
    {
      "cell_type": "markdown",
      "metadata": {
        "id": "1N-k1WmTqJjW"
      },
      "source": [
        "<details>\n",
        "    <summary>Click here for Solution</summary>\n",
        "\n",
        "```python\n",
        "generator = pipeline('text-generation', model = 'gpt2')\n",
        "generator(\"Hello, I'm a language model\", max_length = 30, num_return_sequences=3)\n",
        "```\n",
        "\n",
        "</details>\n"
      ]
    },
    {
      "cell_type": "markdown",
      "metadata": {
        "id": "XgJm6AxRqJjW"
      },
      "source": [
        "### Exercise 4 - Name Entity Recognition\n",
        "In this Exercise, use any sentence of choice to extract entities: person, location and organization, using Name Entity Recognition task, specify model as \"Jean-Baptiste/camembert-ner\".\n"
      ]
    },
    {
      "cell_type": "code",
      "execution_count": 45,
      "metadata": {
        "id": "jip_nB0rqJjW",
        "colab": {
          "base_uri": "https://localhost:8080/"
        },
        "outputId": "9c7d8b40-f0f9-4386-c2c3-8af5e2818557"
      },
      "outputs": [
        {
          "output_type": "stream",
          "name": "stderr",
          "text": [
            "Device set to use cuda:0\n"
          ]
        },
        {
          "output_type": "stream",
          "name": "stdout",
          "text": [
            "[{'entity_group': 'PER', 'score': np.float32(0.99906516), 'word': 'Elon Musk', 'start': 0, 'end': 9}, {'entity_group': 'ORG', 'score': np.float32(0.9885627), 'word': 'Tesla', 'start': 18, 'end': 24}, {'entity_group': 'LOC', 'score': np.float32(0.9987366), 'word': 'California', 'start': 37, 'end': 48}]\n"
          ]
        }
      ],
      "source": [
        "# TODO\n",
        "nlp = pipeline(\"ner\", model=\"Jean-Baptiste/camembert-ner\", grouped_entities=True)\n",
        "\n",
        "example = \"Elon Musk works at Tesla and lives in California.\"\n",
        "\n",
        "ner_results = nlp(example)\n",
        "print(ner_results)"
      ]
    },
    {
      "cell_type": "markdown",
      "metadata": {
        "id": "LY_UMpqbqJjW"
      },
      "source": [
        "<details>\n",
        "    <summary>Click here for Solution</summary>\n",
        "\n",
        "```python\n",
        "nlp = pipeline(\"ner\", model=\"Jean-Baptiste/camembert-ner\", grouped_entities=True)\n",
        "example = \"Her name is Anjela and she lives in Seoul.\"\n",
        "\n",
        "ner_results = nlp(example)\n",
        "print(ner_results)\n",
        "```\n",
        "\n",
        "</details>\n"
      ]
    },
    {
      "cell_type": "markdown",
      "metadata": {
        "id": "BrhGO6D8qJjW"
      },
      "source": [
        "### Exercise 5 - Question Answering\n",
        "In this Exercise, use any sentence and a question of choice to extract some information, using \"distilbert-base-cased-distilled-squad\" model.\n"
      ]
    },
    {
      "cell_type": "code",
      "execution_count": 46,
      "metadata": {
        "id": "vWOjLSlCqJjW",
        "colab": {
          "base_uri": "https://localhost:8080/"
        },
        "outputId": "76a52d52-cb17-469e-b4c4-285522ff7ef5"
      },
      "outputs": [
        {
          "output_type": "stream",
          "name": "stderr",
          "text": [
            "Device set to use cuda:0\n"
          ]
        },
        {
          "output_type": "execute_result",
          "data": {
            "text/plain": [
              "{'score': 0.9989643096923828, 'start': 0, 'end': 6, 'answer': 'Python'}"
            ]
          },
          "metadata": {},
          "execution_count": 46
        }
      ],
      "source": [
        "# TODO\n",
        "question_answerer = pipeline(\"question-answering\", model=\"distilbert-base-cased-distilled-squad\")\n",
        "question_answerer(\n",
        "    question=\"What programming language is commonly used for data science?\",\n",
        "    context=\"Python is a widely used programming language in data science due to its rich ecosystem of libraries such as pandas, numpy, and scikit-learn.\",\n",
        ")"
      ]
    },
    {
      "cell_type": "markdown",
      "metadata": {
        "id": "bt8eXVBmqJjW"
      },
      "source": [
        "<details>\n",
        "    <summary>Click here for Solution</summary>\n",
        "\n",
        "```python\n",
        "question_answerer = pipeline(\"question-answering\", model=\"distilbert-base-cased-distilled-squad\")\n",
        "question_answerer(\n",
        "    question=\"Which lake is one of the five Great Lakes of North America?\",\n",
        "    context=\"Lake Ontario is one of the five Great Lakes of North America. It is surrounded on the north, west, and southwest by the Canadian province of Ontario, and on the south and east by the U.S. state of New York, whose water boundaries, along the international border, meet in the middle of the lake.\",\n",
        ")\n",
        "```\n",
        "\n",
        "</details>\n",
        "\n"
      ]
    },
    {
      "cell_type": "markdown",
      "metadata": {
        "id": "eDwY-TPtqJjW"
      },
      "source": [
        "### Exercise 6 - Text Summarization\n",
        "In this Exercise, use any document/paragraph of choice and summarize it, using \"sshleifer/distilbart-cnn-12-6\" model.\n"
      ]
    },
    {
      "cell_type": "code",
      "execution_count": 47,
      "metadata": {
        "id": "7am_dqU_qJjX",
        "colab": {
          "base_uri": "https://localhost:8080/"
        },
        "outputId": "219daedb-cbd3-46dc-b05a-d546cf46a4b7"
      },
      "outputs": [
        {
          "output_type": "stream",
          "name": "stderr",
          "text": [
            "Device set to use cuda:0\n",
            "Your max_length is set to 142, but your input_length is only 109. Since this is a summarization task, where outputs shorter than the input are typically wanted, you might consider decreasing max_length manually, e.g. summarizer('...', max_length=54)\n"
          ]
        },
        {
          "output_type": "execute_result",
          "data": {
            "text/plain": [
              "[{'summary_text': \" The Eiffel Tower is 330 meters tall and was the tallest man-made structure in the world until the completion of the Chrysler Building in New York in 1930 . Constructed between 1887 and 1889 for the 1889 World's Fair, it was initially criticized by some of France's leading artists and intellectuals .\"}]"
            ]
          },
          "metadata": {},
          "execution_count": 47
        }
      ],
      "source": [
        "# TODO\n",
        "summarizer = pipeline(\"summarization\", model=\"sshleifer/distilbart-cnn-12-6\",  max_length=59)\n",
        "summarizer(\n",
        "    \"\"\"\n",
        "The Eiffel Tower, located in Paris, France, is one of the most recognizable landmarks in the world. Constructed between 1887 and 1889 for the 1889 World's Fair, it was initially criticized by some of France's leading artists and intellectuals for its design. Over time, however, it became a global cultural icon of France and a symbol of architectural achievement. The tower is 330 meters tall and was the tallest man-made structure in the world until the completion of the Chrysler Building in New York in 1930.\n",
        "\"\"\"\n",
        ")"
      ]
    },
    {
      "cell_type": "markdown",
      "metadata": {
        "id": "WmT9WoUNqJjX"
      },
      "source": [
        "<details>\n",
        "    <summary>Click here for Solution</summary>\n",
        "\n",
        "```python\n",
        "summarizer = pipeline(\"summarization\", model=\"sshleifer/distilbart-cnn-12-6\",  max_length=59)\n",
        "summarizer(\n",
        "    \"\"\"\n",
        "Lake Superior in central North America is the largest freshwater lake in the world by surface area and the third-largest by volume, holding 10% of the world's surface fresh water. The northern and westernmost of the Great Lakes of North America, it straddles the Canada–United States border with the province of Ontario to the north, and the states of Minnesota to the northwest and Wisconsin and Michigan to the south. It drains into Lake Huron via St. Marys River and through the lower Great Lakes to the St. Lawrence River and the Atlantic Ocean.\n",
        "\"\"\"\n",
        ")\n",
        "```\n",
        "\n",
        "</details>\n"
      ]
    },
    {
      "cell_type": "markdown",
      "metadata": {
        "id": "Idk8tnTNqJjX"
      },
      "source": [
        "### Exercise 7 - Translation\n",
        "In this Exercise, use any sentence of choice to translate English to German. The translation model you can use is \"translation_en_to_de\".\n"
      ]
    },
    {
      "cell_type": "code",
      "execution_count": 48,
      "metadata": {
        "id": "lbvFeHRCqJjX",
        "colab": {
          "base_uri": "https://localhost:8080/"
        },
        "outputId": "e7d7bd8d-5b40-41da-84a1-394a191c751f"
      },
      "outputs": [
        {
          "output_type": "stream",
          "name": "stderr",
          "text": [
            "Device set to use cuda:0\n",
            "Both `max_new_tokens` (=256) and `max_length`(=40) seem to have been set. `max_new_tokens` will take precedence. Please refer to the documentation for more information. (https://huggingface.co/docs/transformers/main/en/main_classes/text_generation)\n"
          ]
        },
        {
          "output_type": "stream",
          "name": "stdout",
          "text": [
            "[{'translation_text': 'Ich lerne Maschinenlernen, um meine Fähigkeiten zu verbessern.'}]\n"
          ]
        }
      ],
      "source": [
        "# TODO\n",
        "translator = pipeline(\"translation_en_to_de\", model=\"t5-small\")\n",
        "print(translator(\"I am learning machine learning to improve my skills.\", max_length=40))"
      ]
    },
    {
      "cell_type": "markdown",
      "metadata": {
        "id": "QKtC3KNpqJjX"
      },
      "source": [
        "<details>\n",
        "    <summary>Click here for Solution</summary>\n",
        "\n",
        "```python\n",
        "translator = pipeline(\"translation_en_to_de\", model=\"t5-small\")\n",
        "print(translator(\"New York is my favourite city\", max_length=40))\n",
        "```\n",
        "\n",
        "</details>\n"
      ]
    },
    {
      "cell_type": "markdown",
      "metadata": {
        "id": "0xGZLko9qJjX"
      },
      "source": [
        "## Congratulations! You have completed this guided project.\n"
      ]
    },
    {
      "cell_type": "markdown",
      "metadata": {
        "id": "mxQYtC2dqJjX"
      },
      "source": [
        "## Author\n"
      ]
    },
    {
      "cell_type": "markdown",
      "metadata": {
        "id": "elUXsF77qJjX"
      },
      "source": [
        "[Svitlana Kramar](www.linkedin.com/in/svitlana-kramar)\n"
      ]
    },
    {
      "cell_type": "markdown",
      "metadata": {
        "id": "z6tp35e3qJjY"
      },
      "source": [
        "## Change Log\n"
      ]
    },
    {
      "cell_type": "markdown",
      "metadata": {
        "id": "Fw_MOQzuqJjY"
      },
      "source": [
        "|Date (YYYY-MM-DD)|Version|Changed By|Change Description|\n",
        "|-|-|-|-|\n",
        "|2022-09-20|0.1|Svitlana K.|Created first version|\n",
        "|2022-09-27|0.2|Svitlana K.|Created second version. Added diagrams.|\n"
      ]
    },
    {
      "cell_type": "markdown",
      "metadata": {
        "id": "UGUIDdigqJjY"
      },
      "source": [
        "Copyright © 2022 IBM Corporation. All rights reserved.\n"
      ]
    }
  ],
  "metadata": {
    "kernelspec": {
      "display_name": "Python",
      "language": "python",
      "name": "conda-env-python-py"
    },
    "language_info": {
      "codemirror_mode": {
        "name": "ipython",
        "version": 3
      },
      "file_extension": ".py",
      "mimetype": "text/x-python",
      "name": "python",
      "nbconvert_exporter": "python",
      "pygments_lexer": "ipython3",
      "version": "3.7.12"
    },
    "colab": {
      "provenance": [],
      "gpuType": "T4"
    },
    "accelerator": "GPU"
  },
  "nbformat": 4,
  "nbformat_minor": 0
}